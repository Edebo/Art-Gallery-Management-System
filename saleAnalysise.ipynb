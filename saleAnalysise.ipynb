{
  "nbformat": 4,
  "nbformat_minor": 0,
  "metadata": {
    "colab": {
      "name": "saleAnalysise",
      "provenance": [],
      "collapsed_sections": [],
      "toc_visible": true,
      "authorship_tag": "ABX9TyNIcebxFAMGh0TXcXbaB222",
      "include_colab_link": true
    },
    "kernelspec": {
      "name": "python3",
      "display_name": "Python 3"
    }
  },
  "cells": [
    {
      "cell_type": "markdown",
      "metadata": {
        "id": "view-in-github",
        "colab_type": "text"
      },
      "source": [
        "<a href=\"https://colab.research.google.com/github/Edebo/Art-Gallery-Management-System/blob/master/saleAnalysise.ipynb\" target=\"_parent\"><img src=\"https://colab.research.google.com/assets/colab-badge.svg\" alt=\"Open In Colab\"/></a>"
      ]
    },
    {
      "cell_type": "code",
      "metadata": {
        "id": "-Z20FEK1LzUA",
        "colab_type": "code",
        "colab": {
          "base_uri": "https://localhost:8080/",
          "height": 272
        },
        "outputId": "f0da9335-02fb-4326-feb3-58b7b4ab6bc0"
      },
      "source": [
        "import pandas as pd\n",
        "import datetime as dt\n",
        "\n",
        "github_path = \"https://raw.githubusercontent.com/KeithGalli/Pandas-Data-Science-Tasks/master/SalesAnalysis/Sales_Data/Sales_\"\n",
        "\n",
        "all_months_data = pd.DataFrame()\n",
        "all_frames = []\n",
        "total = 0\n",
        "#import all data from github repo\n",
        "for i in range(1,13):\n",
        "  path = github_path + dt.date(2008, i, 1).strftime('%B')+ \"_2019.csv\"\n",
        "  df = pd.read_csv(path)\n",
        "  #df.info()\n",
        "  len(df.index)\n",
        "  #merge each file as the are read into one dataframe\n",
        "  total+=len(df.index)\n",
        "  #all_months_data =pd.concat([all_months_data,df],ignore_index=True)\n",
        "  all_months_data = all_months_data.append(df,ignore_index=True)\n",
        "print(all_months_data.info())\n",
        "\n",
        "print(total)\n",
        "\n"
      ],
      "execution_count": null,
      "outputs": [
        {
          "output_type": "stream",
          "text": [
            "<class 'pandas.core.frame.DataFrame'>\n",
            "RangeIndex: 186850 entries, 0 to 186849\n",
            "Data columns (total 6 columns):\n",
            " #   Column            Non-Null Count   Dtype \n",
            "---  ------            --------------   ----- \n",
            " 0   Order ID          186305 non-null  object\n",
            " 1   Product           186305 non-null  object\n",
            " 2   Quantity Ordered  186305 non-null  object\n",
            " 3   Price Each        186305 non-null  object\n",
            " 4   Order Date        186305 non-null  object\n",
            " 5   Purchase Address  186305 non-null  object\n",
            "dtypes: object(6)\n",
            "memory usage: 8.6+ MB\n",
            "None\n",
            "186850\n"
          ],
          "name": "stdout"
        }
      ]
    },
    {
      "cell_type": "code",
      "metadata": {
        "id": "iMMyFoDspemp",
        "colab_type": "code",
        "colab": {}
      },
      "source": [
        "all_data =all_months_data.dropna(how=\"all\")\n"
      ],
      "execution_count": null,
      "outputs": []
    },
    {
      "cell_type": "code",
      "metadata": {
        "id": "HF4o3-QxpkJQ",
        "colab_type": "code",
        "colab": {
          "base_uri": "https://localhost:8080/",
          "height": 238
        },
        "outputId": "17a625a4-6553-4897-8915-53909072a189"
      },
      "source": [
        "all_data.info()\n"
      ],
      "execution_count": null,
      "outputs": [
        {
          "output_type": "stream",
          "text": [
            "<class 'pandas.core.frame.DataFrame'>\n",
            "Int64Index: 186305 entries, 0 to 186849\n",
            "Data columns (total 6 columns):\n",
            " #   Column            Non-Null Count   Dtype \n",
            "---  ------            --------------   ----- \n",
            " 0   Order ID          186305 non-null  object\n",
            " 1   Product           186305 non-null  object\n",
            " 2   Quantity Ordered  186305 non-null  object\n",
            " 3   Price Each        186305 non-null  object\n",
            " 4   Order Date        186305 non-null  object\n",
            " 5   Purchase Address  186305 non-null  object\n",
            "dtypes: object(6)\n",
            "memory usage: 9.9+ MB\n"
          ],
          "name": "stdout"
        }
      ]
    },
    {
      "cell_type": "markdown",
      "metadata": {
        "id": "AWunIsgVnBso",
        "colab_type": "text"
      },
      "source": [
        "# Cleaning up data\n"
      ]
    },
    {
      "cell_type": "code",
      "metadata": {
        "id": "gHcgC0XbnHii",
        "colab_type": "code",
        "colab": {
          "base_uri": "https://localhost:8080/",
          "height": 238
        },
        "outputId": "20060f8c-32ab-4620-ded8-4b67314fdb08"
      },
      "source": [
        "all_data.isnull().sum()\n",
        "all_data=all_data.dropna()\n",
        "\n",
        "df = all_data[all_data.duplicated(keep=False)]\n",
        "all_data=all_data.drop_duplicates()\n",
        "all_data.info()"
      ],
      "execution_count": null,
      "outputs": [
        {
          "output_type": "stream",
          "text": [
            "<class 'pandas.core.frame.DataFrame'>\n",
            "Int64Index: 185687 entries, 0 to 186849\n",
            "Data columns (total 6 columns):\n",
            " #   Column            Non-Null Count   Dtype \n",
            "---  ------            --------------   ----- \n",
            " 0   Order ID          185687 non-null  object\n",
            " 1   Product           185687 non-null  object\n",
            " 2   Quantity Ordered  185687 non-null  object\n",
            " 3   Price Each        185687 non-null  object\n",
            " 4   Order Date        185687 non-null  object\n",
            " 5   Purchase Address  185687 non-null  object\n",
            "dtypes: object(6)\n",
            "memory usage: 9.9+ MB\n"
          ],
          "name": "stdout"
        }
      ]
    },
    {
      "cell_type": "markdown",
      "metadata": {
        "id": "Ph8uB_S995fJ",
        "colab_type": "text"
      },
      "source": [
        "# Q1. What Month had the best sales"
      ]
    },
    {
      "cell_type": "code",
      "metadata": {
        "id": "3SGM-626-MId",
        "colab_type": "code",
        "colab": {
          "base_uri": "https://localhost:8080/",
          "height": 690
        },
        "outputId": "4eb99a03-959b-4daa-9a25-6268edad543d"
      },
      "source": [
        "#doing cleaning first\n",
        "all_data[\"Month\"] = all_data[\"Order Date\"].str[0:2]\n",
        "all_data = all_data[all_data[\"Month\"]!=\"Or\"]\n",
        "all_data[\"Month\"] = all_data[\"Month\"].astype(\"int32\")\n",
        "all_data[\"Quantity Ordered\"] = all_data[\"Quantity Ordered\"].astype(\"int32\")\n",
        "all_data[\"Price Each\"] = all_data[\"Price Each\"].astype(float)\n",
        "all_data.info()\n",
        "\n",
        "#next we group by month to answer the questions\n",
        "\n",
        "all_data[\"Sale\"] = all_data[\"Quantity Ordered\"]*all_data[\"Price Each\"]\n",
        "month_sales =all_data.groupby(\"Month\").sum()\n",
        "month_sales\n",
        "\n",
        "\n",
        "\n"
      ],
      "execution_count": null,
      "outputs": [
        {
          "output_type": "stream",
          "text": [
            "<class 'pandas.core.frame.DataFrame'>\n",
            "Int64Index: 185686 entries, 0 to 186849\n",
            "Data columns (total 7 columns):\n",
            " #   Column            Non-Null Count   Dtype  \n",
            "---  ------            --------------   -----  \n",
            " 0   Order ID          185686 non-null  object \n",
            " 1   Product           185686 non-null  object \n",
            " 2   Quantity Ordered  185686 non-null  int32  \n",
            " 3   Price Each        185686 non-null  float64\n",
            " 4   Order Date        185686 non-null  object \n",
            " 5   Purchase Address  185686 non-null  object \n",
            " 6   Month             185686 non-null  int32  \n",
            "dtypes: float64(1), int32(2), object(4)\n",
            "memory usage: 9.9+ MB\n"
          ],
          "name": "stdout"
        },
        {
          "output_type": "execute_result",
          "data": {
            "text/html": [
              "<div>\n",
              "<style scoped>\n",
              "    .dataframe tbody tr th:only-of-type {\n",
              "        vertical-align: middle;\n",
              "    }\n",
              "\n",
              "    .dataframe tbody tr th {\n",
              "        vertical-align: top;\n",
              "    }\n",
              "\n",
              "    .dataframe thead th {\n",
              "        text-align: right;\n",
              "    }\n",
              "</style>\n",
              "<table border=\"1\" class=\"dataframe\">\n",
              "  <thead>\n",
              "    <tr style=\"text-align: right;\">\n",
              "      <th></th>\n",
              "      <th>Quantity Ordered</th>\n",
              "      <th>Price Each</th>\n",
              "      <th>Sale</th>\n",
              "    </tr>\n",
              "    <tr>\n",
              "      <th>Month</th>\n",
              "      <th></th>\n",
              "      <th></th>\n",
              "      <th></th>\n",
              "    </tr>\n",
              "  </thead>\n",
              "  <tbody>\n",
              "    <tr>\n",
              "      <th>1</th>\n",
              "      <td>10893</td>\n",
              "      <td>1.810925e+06</td>\n",
              "      <td>1.821413e+06</td>\n",
              "    </tr>\n",
              "    <tr>\n",
              "      <th>2</th>\n",
              "      <td>13431</td>\n",
              "      <td>2.186940e+06</td>\n",
              "      <td>2.200078e+06</td>\n",
              "    </tr>\n",
              "    <tr>\n",
              "      <th>3</th>\n",
              "      <td>16979</td>\n",
              "      <td>2.789085e+06</td>\n",
              "      <td>2.804973e+06</td>\n",
              "    </tr>\n",
              "    <tr>\n",
              "      <th>4</th>\n",
              "      <td>20536</td>\n",
              "      <td>3.366219e+06</td>\n",
              "      <td>3.389218e+06</td>\n",
              "    </tr>\n",
              "    <tr>\n",
              "      <th>5</th>\n",
              "      <td>18653</td>\n",
              "      <td>3.133135e+06</td>\n",
              "      <td>3.150616e+06</td>\n",
              "    </tr>\n",
              "    <tr>\n",
              "      <th>6</th>\n",
              "      <td>15234</td>\n",
              "      <td>2.560504e+06</td>\n",
              "      <td>2.576280e+06</td>\n",
              "    </tr>\n",
              "    <tr>\n",
              "      <th>7</th>\n",
              "      <td>16054</td>\n",
              "      <td>2.631225e+06</td>\n",
              "      <td>2.646461e+06</td>\n",
              "    </tr>\n",
              "    <tr>\n",
              "      <th>8</th>\n",
              "      <td>13429</td>\n",
              "      <td>2.226964e+06</td>\n",
              "      <td>2.241083e+06</td>\n",
              "    </tr>\n",
              "    <tr>\n",
              "      <th>9</th>\n",
              "      <td>13091</td>\n",
              "      <td>2.081898e+06</td>\n",
              "      <td>2.094466e+06</td>\n",
              "    </tr>\n",
              "    <tr>\n",
              "      <th>10</th>\n",
              "      <td>22669</td>\n",
              "      <td>3.713609e+06</td>\n",
              "      <td>3.734778e+06</td>\n",
              "    </tr>\n",
              "    <tr>\n",
              "      <th>11</th>\n",
              "      <td>19769</td>\n",
              "      <td>3.178873e+06</td>\n",
              "      <td>3.197875e+06</td>\n",
              "    </tr>\n",
              "    <tr>\n",
              "      <th>12</th>\n",
              "      <td>28074</td>\n",
              "      <td>4.583268e+06</td>\n",
              "      <td>4.608296e+06</td>\n",
              "    </tr>\n",
              "  </tbody>\n",
              "</table>\n",
              "</div>"
            ],
            "text/plain": [
              "       Quantity Ordered    Price Each          Sale\n",
              "Month                                              \n",
              "1                 10893  1.810925e+06  1.821413e+06\n",
              "2                 13431  2.186940e+06  2.200078e+06\n",
              "3                 16979  2.789085e+06  2.804973e+06\n",
              "4                 20536  3.366219e+06  3.389218e+06\n",
              "5                 18653  3.133135e+06  3.150616e+06\n",
              "6                 15234  2.560504e+06  2.576280e+06\n",
              "7                 16054  2.631225e+06  2.646461e+06\n",
              "8                 13429  2.226964e+06  2.241083e+06\n",
              "9                 13091  2.081898e+06  2.094466e+06\n",
              "10                22669  3.713609e+06  3.734778e+06\n",
              "11                19769  3.178873e+06  3.197875e+06\n",
              "12                28074  4.583268e+06  4.608296e+06"
            ]
          },
          "metadata": {
            "tags": []
          },
          "execution_count": 79
        }
      ]
    },
    {
      "cell_type": "code",
      "metadata": {
        "id": "ptTQBY-ZPEk5",
        "colab_type": "code",
        "colab": {
          "base_uri": "https://localhost:8080/",
          "height": 290
        },
        "outputId": "c46ef608-df23-4b1d-8033-241b626592d7"
      },
      "source": [
        "import matplotlib.pyplot as plt\n",
        "\n",
        "months = range(1,13)\n",
        "plt.bar(months,month_sales[\"Sale\"])\n",
        "plt.xticks(months)\n",
        "\n",
        "plt.ylabel(\"Sales in us dollar $\")\n",
        "plt.xlabel(\"Month number\")\n",
        "plt.show()\n",
        "\n"
      ],
      "execution_count": null,
      "outputs": [
        {
          "output_type": "display_data",
          "data": {
            "image/png": "[encoded data removed]",
            "text/plain": [
              "<Figure size 432x288 with 1 Axes>"
            ]
          },
          "metadata": {
            "tags": [],
            "needs_background": "light"
          }
        }
      ]
    },
    {
      "cell_type": "markdown",
      "metadata": {
        "id": "lv0pIMmKUNbq",
        "colab_type": "text"
      },
      "source": [
        "#What US city had the highest number of sales\n",
        "\n"
      ]
    },
    {
      "cell_type": "markdown",
      "metadata": {
        "id": "FdtmpjTYpcli",
        "colab_type": "text"
      },
      "source": [
        ""
      ]
    },
    {
      "cell_type": "code",
      "metadata": {
        "id": "-DKalkQBUtt7",
        "colab_type": "code",
        "colab": {
          "base_uri": "https://localhost:8080/",
          "height": 374
        },
        "outputId": "b0db0c9e-7668-4274-c9ab-dcb4fcfe59d2"
      },
      "source": [
        "all_data.head()"
      ],
      "execution_count": null,
      "outputs": [
        {
          "output_type": "execute_result",
          "data": {
            "text/html": [
              "<div>\n",
              "<style scoped>\n",
              "    .dataframe tbody tr th:only-of-type {\n",
              "        vertical-align: middle;\n",
              "    }\n",
              "\n",
              "    .dataframe tbody tr th {\n",
              "        vertical-align: top;\n",
              "    }\n",
              "\n",
              "    .dataframe thead th {\n",
              "        text-align: right;\n",
              "    }\n",
              "</style>\n",
              "<table border=\"1\" class=\"dataframe\">\n",
              "  <thead>\n",
              "    <tr style=\"text-align: right;\">\n",
              "      <th></th>\n",
              "      <th>Order ID</th>\n",
              "      <th>Product</th>\n",
              "      <th>Quantity Ordered</th>\n",
              "      <th>Price Each</th>\n",
              "      <th>Order Date</th>\n",
              "      <th>Purchase Address</th>\n",
              "      <th>Month</th>\n",
              "      <th>Sale</th>\n",
              "    </tr>\n",
              "  </thead>\n",
              "  <tbody>\n",
              "    <tr>\n",
              "      <th>0</th>\n",
              "      <td>141234</td>\n",
              "      <td>iPhone</td>\n",
              "      <td>1</td>\n",
              "      <td>700.00</td>\n",
              "      <td>01/22/19 21:25</td>\n",
              "      <td>944 Walnut St, Boston, MA 02215</td>\n",
              "      <td>1</td>\n",
              "      <td>700.00</td>\n",
              "    </tr>\n",
              "    <tr>\n",
              "      <th>1</th>\n",
              "      <td>141235</td>\n",
              "      <td>Lightning Charging Cable</td>\n",
              "      <td>1</td>\n",
              "      <td>14.95</td>\n",
              "      <td>01/28/19 14:15</td>\n",
              "      <td>185 Maple St, Portland, OR 97035</td>\n",
              "      <td>1</td>\n",
              "      <td>14.95</td>\n",
              "    </tr>\n",
              "    <tr>\n",
              "      <th>2</th>\n",
              "      <td>141236</td>\n",
              "      <td>Wired Headphones</td>\n",
              "      <td>2</td>\n",
              "      <td>11.99</td>\n",
              "      <td>01/17/19 13:33</td>\n",
              "      <td>538 Adams St, San Francisco, CA 94016</td>\n",
              "      <td>1</td>\n",
              "      <td>23.98</td>\n",
              "    </tr>\n",
              "    <tr>\n",
              "      <th>3</th>\n",
              "      <td>141237</td>\n",
              "      <td>27in FHD Monitor</td>\n",
              "      <td>1</td>\n",
              "      <td>149.99</td>\n",
              "      <td>01/05/19 20:33</td>\n",
              "      <td>738 10th St, Los Angeles, CA 90001</td>\n",
              "      <td>1</td>\n",
              "      <td>149.99</td>\n",
              "    </tr>\n",
              "    <tr>\n",
              "      <th>4</th>\n",
              "      <td>141238</td>\n",
              "      <td>Wired Headphones</td>\n",
              "      <td>1</td>\n",
              "      <td>11.99</td>\n",
              "      <td>01/25/19 11:59</td>\n",
              "      <td>387 10th St, Austin, TX 73301</td>\n",
              "      <td>1</td>\n",
              "      <td>11.99</td>\n",
              "    </tr>\n",
              "  </tbody>\n",
              "</table>\n",
              "</div>"
            ],
            "text/plain": [
              "  Order ID                   Product  ...  Month    Sale\n",
              "0   141234                    iPhone  ...      1  700.00\n",
              "1   141235  Lightning Charging Cable  ...      1   14.95\n",
              "2   141236          Wired Headphones  ...      1   23.98\n",
              "3   141237          27in FHD Monitor  ...      1  149.99\n",
              "4   141238          Wired Headphones  ...      1   11.99\n",
              "\n",
              "[5 rows x 8 columns]"
            ]
          },
          "metadata": {
            "tags": []
          },
          "execution_count": 81
        }
      ]
    },
    {
      "cell_type": "code",
      "metadata": {
        "id": "D4j8wVRIUY0F",
        "colab_type": "code",
        "colab": {
          "base_uri": "https://localhost:8080/",
          "height": 390
        },
        "outputId": "13f4e5b8-efb8-4e48-ea1f-de442c9d0eee"
      },
      "source": [
        "def get_cities(x):\n",
        "  return x.split(\",\")[1]\n",
        "\n",
        "def get_address(x):\n",
        "  return x.split(\",\")[2].split(\" \")[1]\n",
        "\n",
        "all_data[\"City\"] =all_data[\"Purchase Address\"].apply(lambda x:f\"{get_cities(x)}({get_address(x)})\")\n",
        "\n",
        "result = all_data.groupby(\"City\").sum()\n",
        "result\n",
        "\n",
        "\n"
      ],
      "execution_count": null,
      "outputs": [
        {
          "output_type": "execute_result",
          "data": {
            "text/html": [
              "<div>\n",
              "<style scoped>\n",
              "    .dataframe tbody tr th:only-of-type {\n",
              "        vertical-align: middle;\n",
              "    }\n",
              "\n",
              "    .dataframe tbody tr th {\n",
              "        vertical-align: top;\n",
              "    }\n",
              "\n",
              "    .dataframe thead th {\n",
              "        text-align: right;\n",
              "    }\n",
              "</style>\n",
              "<table border=\"1\" class=\"dataframe\">\n",
              "  <thead>\n",
              "    <tr style=\"text-align: right;\">\n",
              "      <th></th>\n",
              "      <th>Quantity Ordered</th>\n",
              "      <th>Price Each</th>\n",
              "      <th>Month</th>\n",
              "      <th>Sale</th>\n",
              "    </tr>\n",
              "    <tr>\n",
              "      <th>City</th>\n",
              "      <th></th>\n",
              "      <th></th>\n",
              "      <th></th>\n",
              "      <th></th>\n",
              "    </tr>\n",
              "  </thead>\n",
              "  <tbody>\n",
              "    <tr>\n",
              "      <th>Atlanta(GA)</th>\n",
              "      <td>16584</td>\n",
              "      <td>2.778609e+06</td>\n",
              "      <td>104649</td>\n",
              "      <td>2.794199e+06</td>\n",
              "    </tr>\n",
              "    <tr>\n",
              "      <th>Austin(TX)</th>\n",
              "      <td>11137</td>\n",
              "      <td>1.808340e+06</td>\n",
              "      <td>69720</td>\n",
              "      <td>1.818044e+06</td>\n",
              "    </tr>\n",
              "    <tr>\n",
              "      <th>Boston(MA)</th>\n",
              "      <td>22494</td>\n",
              "      <td>3.634398e+06</td>\n",
              "      <td>140898</td>\n",
              "      <td>3.658628e+06</td>\n",
              "    </tr>\n",
              "    <tr>\n",
              "      <th>Dallas(TX)</th>\n",
              "      <td>16707</td>\n",
              "      <td>2.750026e+06</td>\n",
              "      <td>104447</td>\n",
              "      <td>2.765374e+06</td>\n",
              "    </tr>\n",
              "    <tr>\n",
              "      <th>Los Angeles(CA)</th>\n",
              "      <td>33247</td>\n",
              "      <td>5.417172e+06</td>\n",
              "      <td>208020</td>\n",
              "      <td>5.448304e+06</td>\n",
              "    </tr>\n",
              "    <tr>\n",
              "      <th>New York City(NY)</th>\n",
              "      <td>27903</td>\n",
              "      <td>4.632921e+06</td>\n",
              "      <td>175557</td>\n",
              "      <td>4.661867e+06</td>\n",
              "    </tr>\n",
              "    <tr>\n",
              "      <th>Portland(ME)</th>\n",
              "      <td>2746</td>\n",
              "      <td>4.467524e+05</td>\n",
              "      <td>17119</td>\n",
              "      <td>4.493214e+05</td>\n",
              "    </tr>\n",
              "    <tr>\n",
              "      <th>Portland(OR)</th>\n",
              "      <td>11291</td>\n",
              "      <td>1.859836e+06</td>\n",
              "      <td>70517</td>\n",
              "      <td>1.870011e+06</td>\n",
              "    </tr>\n",
              "    <tr>\n",
              "      <th>San Francisco(CA)</th>\n",
              "      <td>50169</td>\n",
              "      <td>8.204001e+06</td>\n",
              "      <td>314949</td>\n",
              "      <td>8.254744e+06</td>\n",
              "    </tr>\n",
              "    <tr>\n",
              "      <th>Seattle(WA)</th>\n",
              "      <td>16534</td>\n",
              "      <td>2.730587e+06</td>\n",
              "      <td>104817</td>\n",
              "      <td>2.745046e+06</td>\n",
              "    </tr>\n",
              "  </tbody>\n",
              "</table>\n",
              "</div>"
            ],
            "text/plain": [
              "                    Quantity Ordered    Price Each   Month          Sale\n",
              "City                                                                    \n",
              " Atlanta(GA)                   16584  2.778609e+06  104649  2.794199e+06\n",
              " Austin(TX)                    11137  1.808340e+06   69720  1.818044e+06\n",
              " Boston(MA)                    22494  3.634398e+06  140898  3.658628e+06\n",
              " Dallas(TX)                    16707  2.750026e+06  104447  2.765374e+06\n",
              " Los Angeles(CA)               33247  5.417172e+06  208020  5.448304e+06\n",
              " New York City(NY)             27903  4.632921e+06  175557  4.661867e+06\n",
              " Portland(ME)                   2746  4.467524e+05   17119  4.493214e+05\n",
              " Portland(OR)                  11291  1.859836e+06   70517  1.870011e+06\n",
              " San Francisco(CA)             50169  8.204001e+06  314949  8.254744e+06\n",
              " Seattle(WA)                   16534  2.730587e+06  104817  2.745046e+06"
            ]
          },
          "metadata": {
            "tags": []
          },
          "execution_count": 82
        }
      ]
    },
    {
      "cell_type": "code",
      "metadata": {
        "id": "gp1M2EddedTY",
        "colab_type": "code",
        "colab": {
          "base_uri": "https://localhost:8080/",
          "height": 187
        },
        "outputId": "765f43be-f8bc-452d-d1a9-f3d6dc5b0ef8"
      },
      "source": [
        "cities = [city for city,df in all_data.groupby(\"City\")]\n",
        "cities"
      ],
      "execution_count": null,
      "outputs": [
        {
          "output_type": "execute_result",
          "data": {
            "text/plain": [
              "[' Atlanta(GA)',\n",
              " ' Austin(TX)',\n",
              " ' Boston(MA)',\n",
              " ' Dallas(TX)',\n",
              " ' Los Angeles(CA)',\n",
              " ' New York City(NY)',\n",
              " ' Portland(ME)',\n",
              " ' Portland(OR)',\n",
              " ' San Francisco(CA)',\n",
              " ' Seattle(WA)']"
            ]
          },
          "metadata": {
            "tags": []
          },
          "execution_count": 83
        }
      ]
    },
    {
      "cell_type": "code",
      "metadata": {
        "id": "T8b2lOuUXQG9",
        "colab_type": "code",
        "colab": {
          "base_uri": "https://localhost:8080/",
          "height": 355
        },
        "outputId": "cf5e95aa-007e-4504-83a3-549754922340"
      },
      "source": [
        "plt.bar(cities,result[\"Sale\"])\n",
        "plt.xticks(cities,rotation=\"vertical\",size=8)\n",
        "\n",
        "plt.ylabel(\"Sales in us dollar $\")\n",
        "plt.xlabel(\"Cities Name\")\n",
        "plt.show()"
      ],
      "execution_count": null,
      "outputs": [
        {
          "output_type": "display_data",
          "data": {
            "image/png": "[encoded data removed]",
            "text/plain": [
              "<Figure size 432x288 with 1 Axes>"
            ]
          },
          "metadata": {
            "tags": [],
            "needs_background": "light"
          }
        }
      ]
    },
    {
      "cell_type": "markdown",
      "metadata": {
        "id": "lix8xZtlimQW",
        "colab_type": "text"
      },
      "source": [
        "What time is the best to advertise\n"
      ]
    },
    {
      "cell_type": "code",
      "metadata": {
        "id": "QKh6PiakiuOt",
        "colab_type": "code",
        "colab": {}
      },
      "source": [
        "all_data[\"Hour\"] = pd.to_datetime(all_data[\"Order Date\"]).dt.hour"
      ],
      "execution_count": null,
      "outputs": []
    },
    {
      "cell_type": "code",
      "metadata": {
        "id": "_XzKTUJikC_E",
        "colab_type": "code",
        "colab": {}
      },
      "source": [
        "hours= [hour for hour,df in all_data.groupby(\"Hour\")]"
      ],
      "execution_count": null,
      "outputs": []
    },
    {
      "cell_type": "code",
      "metadata": {
        "id": "238Fc-5qkYNk",
        "colab_type": "code",
        "colab": {
          "base_uri": "https://localhost:8080/",
          "height": 279
        },
        "outputId": "ec381009-9d49-4ffe-805a-cdd1fbe5300c"
      },
      "source": [
        "plt.plot(hours,all_data.groupby(\"Hour\").count())\n",
        "plt.xticks(hours)\n",
        "plt.xlabel(\"Hours of the day\")\n",
        "plt.ylabel(\"Number of Orders\")\n",
        "plt.grid()\n",
        "plt.show()"
      ],
      "execution_count": null,
      "outputs": [
        {
          "output_type": "display_data",
          "data": {
            "image/png": "[encoded data removed]",
            "text/plain": [
              "<Figure size 432x288 with 1 Axes>"
            ]
          },
          "metadata": {
            "tags": [],
            "needs_background": "light"
          }
        }
      ]
    },
    {
      "cell_type": "code",
      "metadata": {
        "id": "-YOxeC_nq2e1",
        "colab_type": "code",
        "colab": {
          "base_uri": "https://localhost:8080/",
          "height": 419
        },
        "outputId": "f0c6d4bf-878b-4772-e3b5-00dc8c00a732"
      },
      "source": [
        "df =all_data[all_data[\"Order ID\"].duplicated(keep=False)]\n",
        "\n",
        "df = df.groupby('Order ID').agg({'Product': ', '.join}).reset_index()\n",
        "#df = df[[\"Order ID\",\"Grouped\"]].drop_duplicates()\n",
        "#df = df.groupby(['Order ID'])['Product'].apply(', '.join).reset_index()\n",
        "df"
      ],
      "execution_count": null,
      "outputs": [
        {
          "output_type": "execute_result",
          "data": {
            "text/html": [
              "<div>\n",
              "<style scoped>\n",
              "    .dataframe tbody tr th:only-of-type {\n",
              "        vertical-align: middle;\n",
              "    }\n",
              "\n",
              "    .dataframe tbody tr th {\n",
              "        vertical-align: top;\n",
              "    }\n",
              "\n",
              "    .dataframe thead th {\n",
              "        text-align: right;\n",
              "    }\n",
              "</style>\n",
              "<table border=\"1\" class=\"dataframe\">\n",
              "  <thead>\n",
              "    <tr style=\"text-align: right;\">\n",
              "      <th></th>\n",
              "      <th>Order ID</th>\n",
              "      <th>Product</th>\n",
              "    </tr>\n",
              "  </thead>\n",
              "  <tbody>\n",
              "    <tr>\n",
              "      <th>0</th>\n",
              "      <td>141275</td>\n",
              "      <td>USB-C Charging Cable, Wired Headphones</td>\n",
              "    </tr>\n",
              "    <tr>\n",
              "      <th>1</th>\n",
              "      <td>141290</td>\n",
              "      <td>Apple Airpods Headphones, AA Batteries (4-pack)</td>\n",
              "    </tr>\n",
              "    <tr>\n",
              "      <th>2</th>\n",
              "      <td>141365</td>\n",
              "      <td>Vareebadd Phone, Wired Headphones</td>\n",
              "    </tr>\n",
              "    <tr>\n",
              "      <th>3</th>\n",
              "      <td>141384</td>\n",
              "      <td>Google Phone, USB-C Charging Cable</td>\n",
              "    </tr>\n",
              "    <tr>\n",
              "      <th>4</th>\n",
              "      <td>141450</td>\n",
              "      <td>Google Phone, Bose SoundSport Headphones</td>\n",
              "    </tr>\n",
              "    <tr>\n",
              "      <th>...</th>\n",
              "      <td>...</td>\n",
              "      <td>...</td>\n",
              "    </tr>\n",
              "    <tr>\n",
              "      <th>6874</th>\n",
              "      <td>319536</td>\n",
              "      <td>Macbook Pro Laptop, Wired Headphones</td>\n",
              "    </tr>\n",
              "    <tr>\n",
              "      <th>6875</th>\n",
              "      <td>319556</td>\n",
              "      <td>Google Phone, Wired Headphones</td>\n",
              "    </tr>\n",
              "    <tr>\n",
              "      <th>6876</th>\n",
              "      <td>319584</td>\n",
              "      <td>iPhone, Wired Headphones</td>\n",
              "    </tr>\n",
              "    <tr>\n",
              "      <th>6877</th>\n",
              "      <td>319596</td>\n",
              "      <td>iPhone, Lightning Charging Cable</td>\n",
              "    </tr>\n",
              "    <tr>\n",
              "      <th>6878</th>\n",
              "      <td>319631</td>\n",
              "      <td>34in Ultrawide Monitor, Lightning Charging Cable</td>\n",
              "    </tr>\n",
              "  </tbody>\n",
              "</table>\n",
              "<p>6879 rows × 2 columns</p>\n",
              "</div>"
            ],
            "text/plain": [
              "     Order ID                                           Product\n",
              "0      141275            USB-C Charging Cable, Wired Headphones\n",
              "1      141290   Apple Airpods Headphones, AA Batteries (4-pack)\n",
              "2      141365                 Vareebadd Phone, Wired Headphones\n",
              "3      141384                Google Phone, USB-C Charging Cable\n",
              "4      141450          Google Phone, Bose SoundSport Headphones\n",
              "...       ...                                               ...\n",
              "6874   319536              Macbook Pro Laptop, Wired Headphones\n",
              "6875   319556                    Google Phone, Wired Headphones\n",
              "6876   319584                          iPhone, Wired Headphones\n",
              "6877   319596                  iPhone, Lightning Charging Cable\n",
              "6878   319631  34in Ultrawide Monitor, Lightning Charging Cable\n",
              "\n",
              "[6879 rows x 2 columns]"
            ]
          },
          "metadata": {
            "tags": []
          },
          "execution_count": 108
        }
      ]
    },
    {
      "cell_type": "code",
      "metadata": {
        "id": "I4BpcUm19D-B",
        "colab_type": "code",
        "colab": {
          "base_uri": "https://localhost:8080/",
          "height": 419
        },
        "outputId": "b1762598-bd68-469b-9e8f-1383bf3169ce"
      },
      "source": [
        "#df.groupby(\"Product\").size()\n",
        "kd = df.groupby('Product')['Order ID'].nunique().sort_values(ascending=False).reset_index(name='count')\n",
        "kd"
      ],
      "execution_count": null,
      "outputs": [
        {
          "output_type": "execute_result",
          "data": {
            "text/html": [
              "<div>\n",
              "<style scoped>\n",
              "    .dataframe tbody tr th:only-of-type {\n",
              "        vertical-align: middle;\n",
              "    }\n",
              "\n",
              "    .dataframe tbody tr th {\n",
              "        vertical-align: top;\n",
              "    }\n",
              "\n",
              "    .dataframe thead th {\n",
              "        text-align: right;\n",
              "    }\n",
              "</style>\n",
              "<table border=\"1\" class=\"dataframe\">\n",
              "  <thead>\n",
              "    <tr style=\"text-align: right;\">\n",
              "      <th></th>\n",
              "      <th>Product</th>\n",
              "      <th>count</th>\n",
              "    </tr>\n",
              "  </thead>\n",
              "  <tbody>\n",
              "    <tr>\n",
              "      <th>0</th>\n",
              "      <td>iPhone, Lightning Charging Cable</td>\n",
              "      <td>886</td>\n",
              "    </tr>\n",
              "    <tr>\n",
              "      <th>1</th>\n",
              "      <td>Google Phone, USB-C Charging Cable</td>\n",
              "      <td>857</td>\n",
              "    </tr>\n",
              "    <tr>\n",
              "      <th>2</th>\n",
              "      <td>iPhone, Wired Headphones</td>\n",
              "      <td>361</td>\n",
              "    </tr>\n",
              "    <tr>\n",
              "      <th>3</th>\n",
              "      <td>Vareebadd Phone, USB-C Charging Cable</td>\n",
              "      <td>312</td>\n",
              "    </tr>\n",
              "    <tr>\n",
              "      <th>4</th>\n",
              "      <td>Google Phone, Wired Headphones</td>\n",
              "      <td>303</td>\n",
              "    </tr>\n",
              "    <tr>\n",
              "      <th>...</th>\n",
              "      <td>...</td>\n",
              "      <td>...</td>\n",
              "    </tr>\n",
              "    <tr>\n",
              "      <th>345</th>\n",
              "      <td>LG Washing Machine, 20in Monitor</td>\n",
              "      <td>1</td>\n",
              "    </tr>\n",
              "    <tr>\n",
              "      <th>346</th>\n",
              "      <td>LG Washing Machine, 27in 4K Gaming Monitor</td>\n",
              "      <td>1</td>\n",
              "    </tr>\n",
              "    <tr>\n",
              "      <th>347</th>\n",
              "      <td>LG Washing Machine, AA Batteries (4-pack)</td>\n",
              "      <td>1</td>\n",
              "    </tr>\n",
              "    <tr>\n",
              "      <th>348</th>\n",
              "      <td>LG Washing Machine, Apple Airpods Headphones</td>\n",
              "      <td>1</td>\n",
              "    </tr>\n",
              "    <tr>\n",
              "      <th>349</th>\n",
              "      <td>Google Phone, USB-C Charging Cable, Vareebadd ...</td>\n",
              "      <td>1</td>\n",
              "    </tr>\n",
              "  </tbody>\n",
              "</table>\n",
              "<p>350 rows × 2 columns</p>\n",
              "</div>"
            ],
            "text/plain": [
              "                                               Product  count\n",
              "0                     iPhone, Lightning Charging Cable    886\n",
              "1                   Google Phone, USB-C Charging Cable    857\n",
              "2                             iPhone, Wired Headphones    361\n",
              "3                Vareebadd Phone, USB-C Charging Cable    312\n",
              "4                       Google Phone, Wired Headphones    303\n",
              "..                                                 ...    ...\n",
              "345                   LG Washing Machine, 20in Monitor      1\n",
              "346         LG Washing Machine, 27in 4K Gaming Monitor      1\n",
              "347          LG Washing Machine, AA Batteries (4-pack)      1\n",
              "348       LG Washing Machine, Apple Airpods Headphones      1\n",
              "349  Google Phone, USB-C Charging Cable, Vareebadd ...      1\n",
              "\n",
              "[350 rows x 2 columns]"
            ]
          },
          "metadata": {
            "tags": []
          },
          "execution_count": 124
        }
      ]
    },
    {
      "cell_type": "code",
      "metadata": {
        "id": "ctF4VgK6_U44",
        "colab_type": "code",
        "colab": {
          "base_uri": "https://localhost:8080/",
          "height": 496
        },
        "outputId": "4cc44039-c997-4653-bdc9-9b6252b2a2c1"
      },
      "source": [
        "all_data.head()\n"
      ],
      "execution_count": null,
      "outputs": [
        {
          "output_type": "execute_result",
          "data": {
            "text/html": [
              "<div>\n",
              "<style scoped>\n",
              "    .dataframe tbody tr th:only-of-type {\n",
              "        vertical-align: middle;\n",
              "    }\n",
              "\n",
              "    .dataframe tbody tr th {\n",
              "        vertical-align: top;\n",
              "    }\n",
              "\n",
              "    .dataframe thead th {\n",
              "        text-align: right;\n",
              "    }\n",
              "</style>\n",
              "<table border=\"1\" class=\"dataframe\">\n",
              "  <thead>\n",
              "    <tr style=\"text-align: right;\">\n",
              "      <th></th>\n",
              "      <th>Order ID</th>\n",
              "      <th>Product</th>\n",
              "      <th>Quantity Ordered</th>\n",
              "      <th>Price Each</th>\n",
              "      <th>Order Date</th>\n",
              "      <th>Purchase Address</th>\n",
              "      <th>Month</th>\n",
              "      <th>Sale</th>\n",
              "      <th>City</th>\n",
              "      <th>Hour</th>\n",
              "    </tr>\n",
              "  </thead>\n",
              "  <tbody>\n",
              "    <tr>\n",
              "      <th>0</th>\n",
              "      <td>141234</td>\n",
              "      <td>iPhone</td>\n",
              "      <td>1</td>\n",
              "      <td>700.00</td>\n",
              "      <td>01/22/19 21:25</td>\n",
              "      <td>944 Walnut St, Boston, MA 02215</td>\n",
              "      <td>1</td>\n",
              "      <td>700.00</td>\n",
              "      <td>Boston(MA)</td>\n",
              "      <td>21</td>\n",
              "    </tr>\n",
              "    <tr>\n",
              "      <th>1</th>\n",
              "      <td>141235</td>\n",
              "      <td>Lightning Charging Cable</td>\n",
              "      <td>1</td>\n",
              "      <td>14.95</td>\n",
              "      <td>01/28/19 14:15</td>\n",
              "      <td>185 Maple St, Portland, OR 97035</td>\n",
              "      <td>1</td>\n",
              "      <td>14.95</td>\n",
              "      <td>Portland(OR)</td>\n",
              "      <td>14</td>\n",
              "    </tr>\n",
              "    <tr>\n",
              "      <th>2</th>\n",
              "      <td>141236</td>\n",
              "      <td>Wired Headphones</td>\n",
              "      <td>2</td>\n",
              "      <td>11.99</td>\n",
              "      <td>01/17/19 13:33</td>\n",
              "      <td>538 Adams St, San Francisco, CA 94016</td>\n",
              "      <td>1</td>\n",
              "      <td>23.98</td>\n",
              "      <td>San Francisco(CA)</td>\n",
              "      <td>13</td>\n",
              "    </tr>\n",
              "    <tr>\n",
              "      <th>3</th>\n",
              "      <td>141237</td>\n",
              "      <td>27in FHD Monitor</td>\n",
              "      <td>1</td>\n",
              "      <td>149.99</td>\n",
              "      <td>01/05/19 20:33</td>\n",
              "      <td>738 10th St, Los Angeles, CA 90001</td>\n",
              "      <td>1</td>\n",
              "      <td>149.99</td>\n",
              "      <td>Los Angeles(CA)</td>\n",
              "      <td>20</td>\n",
              "    </tr>\n",
              "    <tr>\n",
              "      <th>4</th>\n",
              "      <td>141238</td>\n",
              "      <td>Wired Headphones</td>\n",
              "      <td>1</td>\n",
              "      <td>11.99</td>\n",
              "      <td>01/25/19 11:59</td>\n",
              "      <td>387 10th St, Austin, TX 73301</td>\n",
              "      <td>1</td>\n",
              "      <td>11.99</td>\n",
              "      <td>Austin(TX)</td>\n",
              "      <td>11</td>\n",
              "    </tr>\n",
              "  </tbody>\n",
              "</table>\n",
              "</div>"
            ],
            "text/plain": [
              "  Order ID                   Product  ...                City  Hour\n",
              "0   141234                    iPhone  ...          Boston(MA)    21\n",
              "1   141235  Lightning Charging Cable  ...        Portland(OR)    14\n",
              "2   141236          Wired Headphones  ...   San Francisco(CA)    13\n",
              "3   141237          27in FHD Monitor  ...     Los Angeles(CA)    20\n",
              "4   141238          Wired Headphones  ...          Austin(TX)    11\n",
              "\n",
              "[5 rows x 10 columns]"
            ]
          },
          "metadata": {
            "tags": []
          },
          "execution_count": 125
        }
      ]
    },
    {
      "cell_type": "code",
      "metadata": {
        "id": "AMYpw4aBA_lv",
        "colab_type": "code",
        "colab": {}
      },
      "source": [
        ""
      ],
      "execution_count": null,
      "outputs": []
    },
    {
      "cell_type": "markdown",
      "metadata": {
        "id": "IoRn-BkcBASB",
        "colab_type": "text"
      },
      "source": [
        "What product was sold the most and why?"
      ]
    },
    {
      "cell_type": "code",
      "metadata": {
        "id": "kEUKjGmtBG2u",
        "colab_type": "code",
        "colab": {
          "base_uri": "https://localhost:8080/",
          "height": 391
        },
        "outputId": "77304040-b28f-480c-c4d5-64274521e81b"
      },
      "source": [
        "group_product = all_data.groupby(\"Product\").sum()\n",
        "group_product = group_product[[\"Quantity Ordered\",\"Price Each\"]]\n",
        "qty_order = group_product[\"Quantity Ordered\"]\n",
        "products = [product for product,df in all_data.groupby(\"Product\")]\n",
        "price = all_data.groupby(\"Product\").mean()[\"Price Each\"]\n",
        "\n",
        "\n",
        "fig, ax1 = plt.subplots()\n",
        "\n",
        "ax2 = ax1.twinx()\n",
        "ax1.bar(products, qty_order,color='g')\n",
        "ax2.plot(products, price, 'b-')\n",
        "\n",
        "ax1.set_xlabel('Product')\n",
        "ax1.set_ylabel('Quantity Order', color='g')\n",
        "ax2.set_ylabel('Price', color='b')\n",
        "\n",
        "ax1.set_xticklabels(products,rotation=\"vertical\",size=8)\n",
        "plt.show()\n"
      ],
      "execution_count": null,
      "outputs": [
        {
          "output_type": "display_data",
          "data": {
            "image/png": "[encoded data removed]",
            "text/plain": [
              "<Figure size 432x288 with 2 Axes>"
            ]
          },
          "metadata": {
            "tags": [],
            "needs_background": "light"
          }
        }
      ]
    },
    {
      "cell_type": "code",
      "metadata": {
        "id": "YvAczTFWM5Sr",
        "colab_type": "code",
        "colab": {
          "base_uri": "https://localhost:8080/",
          "height": 34
        },
        "outputId": "6d99a7d0-b0ea-4664-8fed-dfab19e1d2cf"
      },
      "source": [
        "correlation = qty_order.corr(price)\n",
        "correlation"
      ],
      "execution_count": null,
      "outputs": [
        {
          "output_type": "execute_result",
          "data": {
            "text/plain": [
              "-0.6012969062599514"
            ]
          },
          "metadata": {
            "tags": []
          },
          "execution_count": 143
        }
      ]
    }
  ]
}